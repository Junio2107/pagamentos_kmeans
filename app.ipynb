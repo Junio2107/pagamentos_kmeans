{
 "cells": [
  {
   "cell_type": "markdown",
   "metadata": {},
   "source": [
    "# Data Exploratory Analyzis"
   ]
  },
  {
   "cell_type": "code",
   "execution_count": 32,
   "metadata": {},
   "outputs": [],
   "source": [
    "import pandas as pd\n",
    "import seaborn as sns"
   ]
  },
  {
   "cell_type": "code",
   "execution_count": 5,
   "metadata": {},
   "outputs": [],
   "source": [
    "df = pd.read_csv(f'pagamento.csv',sep=',')\n"
   ]
  },
  {
   "cell_type": "code",
   "execution_count": 6,
   "metadata": {},
   "outputs": [
    {
     "data": {
      "text/html": [
       "<div>\n",
       "<style scoped>\n",
       "    .dataframe tbody tr th:only-of-type {\n",
       "        vertical-align: middle;\n",
       "    }\n",
       "\n",
       "    .dataframe tbody tr th {\n",
       "        vertical-align: top;\n",
       "    }\n",
       "\n",
       "    .dataframe thead th {\n",
       "        text-align: right;\n",
       "    }\n",
       "</style>\n",
       "<table border=\"1\" class=\"dataframe\">\n",
       "  <thead>\n",
       "    <tr style=\"text-align: right;\">\n",
       "      <th></th>\n",
       "      <th>Pagou_Divida</th>\n",
       "      <th>Renda_Presumida</th>\n",
       "      <th>Idade</th>\n",
       "    </tr>\n",
       "  </thead>\n",
       "  <tbody>\n",
       "    <tr>\n",
       "      <th>count</th>\n",
       "      <td>400.000000</td>\n",
       "      <td>400.000000</td>\n",
       "      <td>400.000000</td>\n",
       "    </tr>\n",
       "    <tr>\n",
       "      <th>mean</th>\n",
       "      <td>0.357500</td>\n",
       "      <td>5811.875275</td>\n",
       "      <td>37.655000</td>\n",
       "    </tr>\n",
       "    <tr>\n",
       "      <th>std</th>\n",
       "      <td>0.479864</td>\n",
       "      <td>2841.413521</td>\n",
       "      <td>10.482877</td>\n",
       "    </tr>\n",
       "    <tr>\n",
       "      <th>min</th>\n",
       "      <td>0.000000</td>\n",
       "      <td>1250.000000</td>\n",
       "      <td>18.000000</td>\n",
       "    </tr>\n",
       "    <tr>\n",
       "      <th>25%</th>\n",
       "      <td>0.000000</td>\n",
       "      <td>3583.330000</td>\n",
       "      <td>29.750000</td>\n",
       "    </tr>\n",
       "    <tr>\n",
       "      <th>50%</th>\n",
       "      <td>0.000000</td>\n",
       "      <td>5833.330000</td>\n",
       "      <td>37.000000</td>\n",
       "    </tr>\n",
       "    <tr>\n",
       "      <th>75%</th>\n",
       "      <td>1.000000</td>\n",
       "      <td>7333.330000</td>\n",
       "      <td>46.000000</td>\n",
       "    </tr>\n",
       "    <tr>\n",
       "      <th>max</th>\n",
       "      <td>1.000000</td>\n",
       "      <td>12500.000000</td>\n",
       "      <td>60.000000</td>\n",
       "    </tr>\n",
       "  </tbody>\n",
       "</table>\n",
       "</div>"
      ],
      "text/plain": [
       "       Pagou_Divida  Renda_Presumida       Idade\n",
       "count    400.000000       400.000000  400.000000\n",
       "mean       0.357500      5811.875275   37.655000\n",
       "std        0.479864      2841.413521   10.482877\n",
       "min        0.000000      1250.000000   18.000000\n",
       "25%        0.000000      3583.330000   29.750000\n",
       "50%        0.000000      5833.330000   37.000000\n",
       "75%        1.000000      7333.330000   46.000000\n",
       "max        1.000000     12500.000000   60.000000"
      ]
     },
     "execution_count": 6,
     "metadata": {},
     "output_type": "execute_result"
    }
   ],
   "source": [
    "df.describe()"
   ]
  },
  {
   "cell_type": "code",
   "execution_count": 28,
   "metadata": {},
   "outputs": [
    {
     "name": "stdout",
     "output_type": "stream",
     "text": [
      "<class 'pandas.core.frame.DataFrame'>\n",
      "RangeIndex: 400 entries, 0 to 399\n",
      "Data columns (total 3 columns):\n",
      " #   Column           Non-Null Count  Dtype  \n",
      "---  ------           --------------  -----  \n",
      " 0   Pagou_Divida     400 non-null    int64  \n",
      " 1   Renda_Presumida  400 non-null    float64\n",
      " 2   Idade            400 non-null    int64  \n",
      "dtypes: float64(1), int64(2)\n",
      "memory usage: 9.5 KB\n",
      "None\n",
      "\n",
      " Number of unique values in each column\n",
      "Pagou_Divida - 2\n",
      "Renda_Presumida - 117\n",
      "Idade - 43\n",
      "\n",
      "Number of missing values in each column\n",
      " Pagou_Divida       0\n",
      "Renda_Presumida    0\n",
      "Idade              0\n",
      "dtype: int64\n",
      "\n",
      "Number of duplicated lines = 33\n"
     ]
    }
   ],
   "source": [
    "print(df.info())\n",
    "\n",
    "print('\\n Number of unique values in each column')\n",
    "for i in df.columns:\n",
    "    print(f'{i} - {df[i].nunique()}')\n",
    "    \n",
    "print('\\nNumber of missing values in each column\\n',df.isnull().sum())\n",
    "\n",
    "print('\\nNumber of duplicated lines =',df.duplicated().sum())"
   ]
  },
  {
   "cell_type": "markdown",
   "metadata": {},
   "source": [
    "# Pre-processamento"
   ]
  },
  {
   "cell_type": "code",
   "execution_count": 30,
   "metadata": {},
   "outputs": [],
   "source": [
    "import sklearn\n",
    "from sklearn.preprocessing import StandardScaler\n",
    "from sklearn.cluster import KMeans"
   ]
  },
  {
   "cell_type": "code",
   "execution_count": 33,
   "metadata": {},
   "outputs": [
    {
     "data": {
      "text/plain": [
       "<seaborn.axisgrid.PairGrid at 0x13e4f747650>"
      ]
     },
     "execution_count": 33,
     "metadata": {},
     "output_type